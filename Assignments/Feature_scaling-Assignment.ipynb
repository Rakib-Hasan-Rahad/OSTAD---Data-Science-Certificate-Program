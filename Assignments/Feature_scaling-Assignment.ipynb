{
 "cells": [
  {
   "cell_type": "markdown",
   "id": "3466b3d9",
   "metadata": {},
   "source": [
    "### Read data from income.csv and scale the relevant features using standardization"
   ]
  },
  {
   "cell_type": "code",
   "execution_count": null,
   "id": "731e019d",
   "metadata": {},
   "outputs": [],
   "source": [
    "import pandas as pd\n",
    "from sklearn.preprocessing import StandardScaler\n",
    "\n",
    "file_path = '/mnt/data/income.csv'\n",
    "data = pd.read_csv(file_path)\n",
    "\n",
    "features = data[['Age', 'Income']]\n",
    "scaler = StandardScaler()\n",
    "scaled_features = scaler.fit_transform(features)\n",
    "\n",
    "scaled_data = pd.DataFrame(scaled_features, columns=['Age', 'Income'])\n",
    "scaled_data = pd.concat([data[['Name', 'Buy']], scaled_data], axis=1)\n",
    "\n",
    "print(scaled_data.head())\n"
   ]
  }
 ],
 "metadata": {
  "kernelspec": {
   "display_name": "Python 3 (ipykernel)",
   "language": "python",
   "name": "python3"
  },
  "language_info": {
   "codemirror_mode": {
    "name": "ipython",
    "version": 3
   },
   "file_extension": ".py",
   "mimetype": "text/x-python",
   "name": "python",
   "nbconvert_exporter": "python",
   "pygments_lexer": "ipython3",
   "version": "3.11.5"
  }
 },
 "nbformat": 4,
 "nbformat_minor": 5
}
