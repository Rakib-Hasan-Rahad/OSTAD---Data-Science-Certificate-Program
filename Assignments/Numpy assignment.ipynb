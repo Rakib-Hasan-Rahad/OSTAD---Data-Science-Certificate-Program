{
 "cells": [
  {
   "cell_type": "markdown",
   "metadata": {},
   "source": [
    "# NumPy Essentials Practice Exercises Overview:\n",
    "Time to test the knowledge on NumPy. Lets start with simple task and move on to more challenging ones!<br>\n",
    "**Good Luck**<br>\n",
    "\n",
    "&#9758; *Please note, there are several ways to get the required output, so your code could be different then what is provided in this notebook. <br>As long as you are getting the tasks done, it is fine at this stage. *"
   ]
  },
  {
   "cell_type": "markdown",
   "metadata": {},
   "source": [
    "**1. What is the major difference between \"`Vector`\" and \"`Matrix`\"?**"
   ]
  },
  {
   "cell_type": "code",
   "execution_count": 1,
   "metadata": {
    "collapsed": true
   },
   "outputs": [],
   "source": [
    "#A vector is a one-dimensional array of numbers, representing quantities such as direction or magnitude. A matrix is a two-dimensional array arranged in rows and columns, used for organizing data or performing operations like multiplication. Vectors represent lists of values, while matrices represent tables of values."
   ]
  },
  {
   "cell_type": "markdown",
   "metadata": {},
   "source": [
    "**2. How to import `NumPy` library?** "
   ]
  },
  {
   "cell_type": "code",
   "execution_count": 2,
   "metadata": {
    "collapsed": true
   },
   "outputs": [],
   "source": [
    "# import numpy as np\n"
   ]
  },
  {
   "cell_type": "code",
   "execution_count": 3,
   "metadata": {
    "collapsed": true
   },
   "outputs": [],
   "source": []
  },
  {
   "cell_type": "markdown",
   "metadata": {},
   "source": [
    "**3. Convert the given Python list into NumPy array and check its data type**"
   ]
  },
  {
   "cell_type": "code",
   "execution_count": 4,
   "metadata": {
    "collapsed": true
   },
   "outputs": [],
   "source": [
    "list_1 = [1,2,3,4,5]"
   ]
  },
  {
   "cell_type": "code",
   "execution_count": 1,
   "metadata": {},
   "outputs": [
    {
     "ename": "NameError",
     "evalue": "name 'ytyutu' is not defined",
     "output_type": "error",
     "traceback": [
      "\u001b[1;31m---------------------------------------------------------------------------\u001b[0m",
      "\u001b[1;31mNameError\u001b[0m                                 Traceback (most recent call last)",
      "Cell \u001b[1;32mIn[1], line 2\u001b[0m\n\u001b[0;32m      1\u001b[0m \u001b[38;5;66;03m# To avoid overwriting the output, please code here \u001b[39;00m\n\u001b[1;32m----> 2\u001b[0m ytyutu\n",
      "\u001b[1;31mNameError\u001b[0m: name 'ytyutu' is not defined"
     ]
    }
   ],
   "source": [
    "# Given Python list\n",
    "list_1 = [1, 2, 3, 4, 5]\n",
    "\n",
    "# Convert list to NumPy array\n",
    "array_1 = np.array(list_1)\n",
    "\n",
    "# Check data type of NumPy array\n",
    "data_type = array_1.dtype\n",
    "\n",
    "print(\"NumPy array:\", array_1)\n",
    "print(\"Data type of NumPy array:\", data_type)"
   ]
  },
  {
   "cell_type": "code",
   "execution_count": 6,
   "metadata": {},
   "outputs": [
    {
     "data": {
      "text/plain": [
       "(array([1, 2, 3, 4, 5]), numpy.ndarray)"
      ]
     },
     "execution_count": 6,
     "metadata": {},
     "output_type": "execute_result"
    }
   ],
   "source": []
  },
  {
   "cell_type": "markdown",
   "metadata": {},
   "source": [
    "**4. Generate `array [0,1,2,3,4,5]` using NumPy built-in function, `arange()`**"
   ]
  },
  {
   "cell_type": "code",
   "execution_count": 7,
   "metadata": {
    "collapsed": true
   },
   "outputs": [],
   "source": [
    "array_1 = np.arange(6)\n",
    "\n",
    "print(\"Generated array:\", array_1)\n"
   ]
  },
  {
   "cell_type": "code",
   "execution_count": 8,
   "metadata": {},
   "outputs": [
    {
     "data": {
      "text/plain": [
       "array([0, 1, 2, 3, 4, 5])"
      ]
     },
     "execution_count": 8,
     "metadata": {},
     "output_type": "execute_result"
    }
   ],
   "source": []
  },
  {
   "cell_type": "markdown",
   "metadata": {},
   "source": [
    "**5. Generate an `array of \"5\" zeros` **"
   ]
  },
  {
   "cell_type": "code",
   "execution_count": 9,
   "metadata": {
    "collapsed": true
   },
   "outputs": [],
   "source": [
    "array_zeros = np.zeros(5)\n",
    "\n",
    "print(\"Array of 5 zeros:\", array_zeros)"
   ]
  },
  {
   "cell_type": "code",
   "execution_count": 10,
   "metadata": {},
   "outputs": [
    {
     "data": {
      "text/plain": [
       "array([ 0.,  0.,  0.,  0.,  0.])"
      ]
     },
     "execution_count": 10,
     "metadata": {},
     "output_type": "execute_result"
    }
   ],
   "source": []
  },
  {
   "cell_type": "markdown",
   "metadata": {},
   "source": [
    "**6. Generate the following `matrix`.**"
   ]
  },
  {
   "cell_type": "code",
   "execution_count": 11,
   "metadata": {
    "collapsed": true
   },
   "outputs": [],
   "source": [
    "matrix = np.zeros((3, 4))\n",
    "\n",
    "print(\"Generated matrix:\")\n",
    "print(matrix)"
   ]
  },
  {
   "cell_type": "code",
   "execution_count": 12,
   "metadata": {},
   "outputs": [
    {
     "data": {
      "text/plain": [
       "array([[ 0.,  0.,  0.,  0.],\n",
       "       [ 0.,  0.,  0.,  0.],\n",
       "       [ 0.,  0.,  0.,  0.]])"
      ]
     },
     "execution_count": 12,
     "metadata": {},
     "output_type": "execute_result"
    }
   ],
   "source": []
  },
  {
   "cell_type": "markdown",
   "metadata": {},
   "source": [
    "**7. Generate** `[1.,1.,1.,1.,1.]` **using NumPy built-in function?**"
   ]
  },
  {
   "cell_type": "code",
   "execution_count": 13,
   "metadata": {
    "collapsed": true
   },
   "outputs": [],
   "source": [
    "# Generate array of 5 ones\n",
    "array_ones = np.ones(5)\n",
    "\n",
    "print(\"Array of 5 ones:\", array_ones)"
   ]
  },
  {
   "cell_type": "code",
   "execution_count": 14,
   "metadata": {},
   "outputs": [
    {
     "name": "stdout",
     "output_type": "stream",
     "text": [
      "[ 1.  1.  1.  1.  1.]\n"
     ]
    }
   ],
   "source": []
  },
  {
   "cell_type": "markdown",
   "metadata": {},
   "source": [
    "**8. Generate an array of \"5\" tens.**"
   ]
  },
  {
   "cell_type": "code",
   "execution_count": 15,
   "metadata": {
    "collapsed": true
   },
   "outputs": [],
   "source": [
    "array_tens = np.full(5, 10)\n",
    "\n",
    "print(\"Array of 5 tens:\", array_tens)"
   ]
  },
  {
   "cell_type": "code",
   "execution_count": 1,
   "metadata": {},
   "outputs": [
    {
     "data": {
      "text/plain": [
       "array([10., 10., 10., 10., 10.])"
      ]
     },
     "execution_count": 1,
     "metadata": {},
     "output_type": "execute_result"
    }
   ],
   "source": []
  },
  {
   "cell_type": "markdown",
   "metadata": {},
   "source": [
    "**9. Use `arange()` to generate an array of even numbers between 50 and 100.**<br>\n",
    "*50 and 100 are not included*"
   ]
  },
  {
   "cell_type": "code",
   "execution_count": 17,
   "metadata": {
    "collapsed": true
   },
   "outputs": [],
   "source": [
    "array_even = np.arange(52, 100, 2)\n",
    "\n",
    "print(\"Array of even numbers between 50 and 100 (exclusive):\")\n",
    "print(array_even)"
   ]
  },
  {
   "cell_type": "code",
   "execution_count": 18,
   "metadata": {},
   "outputs": [
    {
     "data": {
      "text/plain": [
       "array([52, 54, 56, 58, 60, 62, 64, 66, 68, 70, 72, 74, 76, 78, 80, 82, 84,\n",
       "       86, 88, 90, 92, 94, 96, 98])"
      ]
     },
     "execution_count": 18,
     "metadata": {},
     "output_type": "execute_result"
    }
   ],
   "source": []
  },
  {
   "cell_type": "markdown",
   "metadata": {},
   "source": [
    "**10. Generate an array of 10 linearly spaced points between 0 and 1.**<br>\n",
    "**Output step size as well?**"
   ]
  },
  {
   "cell_type": "code",
   "execution_count": 19,
   "metadata": {
    "collapsed": true
   },
   "outputs": [],
   "source": [
    "array_linspace = np.linspace(0, 1, 10)\n",
    "\n",
    "# Calculate the step size\n",
    "step_size = array_linspace[1] - array_linspace[0]\n",
    "\n",
    "print(\"Array of 10 linearly spaced points between 0 and 1:\")\n",
    "print(array_linspace)\n",
    "print(\"Step size:\", step_size)"
   ]
  },
  {
   "cell_type": "code",
   "execution_count": 20,
   "metadata": {},
   "outputs": [
    {
     "data": {
      "text/plain": [
       "(array([ 0.        ,  0.11111111,  0.22222222,  0.33333333,  0.44444444,\n",
       "         0.55555556,  0.66666667,  0.77777778,  0.88888889,  1.        ]),\n",
       " 0.1111111111111111)"
      ]
     },
     "execution_count": 20,
     "metadata": {},
     "output_type": "execute_result"
    }
   ],
   "source": []
  },
  {
   "cell_type": "markdown",
   "metadata": {},
   "source": [
    "**11. Perform the following tasks:**\n",
    "* Generate a **`vector array of 25`** numbers using **`arange()`**\n",
    "* write a code to convert the vector array into **`2-D matrix using reshape`**\n",
    "* can we use **`shape`** instead of reshape as well?"
   ]
  },
  {
   "cell_type": "code",
   "execution_count": 21,
   "metadata": {
    "collapsed": true
   },
   "outputs": [],
   "source": [
    "# To avoid overwritinavector_array = np.arange(25)\n",
    "\n",
    "# Convert the vector array into a 2-D matrix using reshape\n",
    "matrix_2d_reshape = vector_array.reshape((5, 5))\n",
    "\n",
    "# Alternatively, you can use shape to achieve the same result\n",
    "matrix_2d_shape = vector_array.reshape(5, 5)\n",
    "\n",
    "print(\"Original vector array:\")\n",
    "print(vector_array)\n",
    "print(\"\\nMatrix using reshape:\")\n",
    "print(matrix_2d_reshape)\n",
    "print(\"\\nMatrix using shape:\")\n",
    "print(matrix_2d_shape)g the output, please code here "
   ]
  },
  {
   "cell_type": "code",
   "execution_count": 22,
   "metadata": {
    "scrolled": true
   },
   "outputs": [
    {
     "data": {
      "text/plain": [
       "array([ 0,  1,  2,  3,  4,  5,  6,  7,  8,  9, 10, 11, 12, 13, 14, 15, 16,\n",
       "       17, 18, 19, 20, 21, 22, 23, 24])"
      ]
     },
     "execution_count": 22,
     "metadata": {},
     "output_type": "execute_result"
    }
   ],
   "source": [
    "# Generating vector array"
   ]
  },
  {
   "cell_type": "code",
   "execution_count": 23,
   "metadata": {
    "collapsed": true
   },
   "outputs": [],
   "source": [
    "# To avoid overwriting the output, please code here "
   ]
  },
  {
   "cell_type": "code",
   "execution_count": 24,
   "metadata": {
    "scrolled": true
   },
   "outputs": [
    {
     "data": {
      "text/plain": [
       "array([[ 0,  1,  2,  3,  4],\n",
       "       [ 5,  6,  7,  8,  9],\n",
       "       [10, 11, 12, 13, 14],\n",
       "       [15, 16, 17, 18, 19],\n",
       "       [20, 21, 22, 23, 24]])"
      ]
     },
     "execution_count": 24,
     "metadata": {},
     "output_type": "execute_result"
    }
   ],
   "source": [
    "# reshape to convert into 2-d"
   ]
  },
  {
   "cell_type": "code",
   "execution_count": 25,
   "metadata": {
    "collapsed": true
   },
   "outputs": [],
   "source": [
    "# To avoid overwriting the output, please code here "
   ]
  },
  {
   "cell_type": "code",
   "execution_count": 26,
   "metadata": {
    "scrolled": true
   },
   "outputs": [
    {
     "data": {
      "text/plain": [
       "array([[ 0,  1,  2,  3,  4],\n",
       "       [ 5,  6,  7,  8,  9],\n",
       "       [10, 11, 12, 13, 14],\n",
       "       [15, 16, 17, 18, 19],\n",
       "       [20, 21, 22, 23, 24]])"
      ]
     },
     "execution_count": 26,
     "metadata": {},
     "output_type": "execute_result"
    }
   ],
   "source": [
    "# Using shape"
   ]
  },
  {
   "cell_type": "markdown",
   "metadata": {},
   "source": [
    "**12. Please generate the following matrix.**"
   ]
  },
  {
   "cell_type": "code",
   "execution_count": 27,
   "metadata": {
    "collapsed": true
   },
   "outputs": [],
   "source": [
    "# To avoid overwriting the output, please code here "
   ]
  },
  {
   "cell_type": "code",
   "execution_count": 14,
   "metadata": {
    "scrolled": false
   },
   "outputs": [
    {
     "data": {
      "text/plain": [
       "array([[0.1, 0.2, 0.3, 0.4, 0.5],\n",
       "       [0.6, 0.7, 0.8, 0.9, 1. ],\n",
       "       [1.1, 1.2, 1.3, 1.4, 1.5],\n",
       "       [1.6, 1.7, 1.8, 1.9, 2. ],\n",
       "       [2.1, 2.2, 2.3, 2.4, 2.5]])"
      ]
     },
     "execution_count": 14,
     "metadata": {},
     "output_type": "execute_result"
    }
   ],
   "source": [
    "array_linear = np.arange(0.1, 2.6, 0.1)\n",
    "\n",
    "# Reshape the linear array into a 2-D matrix of shape (5, 5)\n",
    "matrix = array_linear.reshape((5, 5))\n",
    "\n",
    "print(\"Generated matrix:\")\n",
    "print(matrix)"
   ]
  },
  {
   "cell_type": "markdown",
   "metadata": {},
   "source": [
    "**13. Write a code to generate the output below, use \"`linspace()`\" and \"`print()`\"**"
   ]
  },
  {
   "cell_type": "code",
   "execution_count": 29,
   "metadata": {
    "collapsed": true
   },
   "outputs": [],
   "source": [
    "# To avoid overwriting the output, please code here "
   ]
  },
  {
   "cell_type": "code",
   "execution_count": 27,
   "metadata": {},
   "outputs": [
    {
     "data": {
      "text/plain": [
       "array([[ 0,  1,  2,  3,  4],\n",
       "       [ 5,  6,  7,  8,  9],\n",
       "       [10, 11, 12, 13, 14],\n",
       "       [15, 16, 17, 18, 19],\n",
       "       [20, 21, 22, 23, 24]])"
      ]
     },
     "execution_count": 27,
     "metadata": {},
     "output_type": "execute_result"
    }
   ],
   "source": [
    "# Generate a linearly spaced array of numbers from 0 to 24 with 25 elements\n",
    "array_linear = np.linspace(0, 24, 25, dtype=int)\n",
    "\n",
    "# Reshape the linear array into a 2-D matrix of shape (5, 5)\n",
    "matrix = array_linear.reshape((5, 5))\n",
    "\n",
    "# Print the matrix\n",
    "print(matrix)"
   ]
  },
  {
   "cell_type": "markdown",
   "metadata": {},
   "source": [
    "**14. What is the main difference between `linspace()` and `arange()`?**"
   ]
  },
  {
   "cell_type": "code",
   "execution_count": 31,
   "metadata": {
    "collapsed": true
   },
   "outputs": [],
   "source": [
    "#`linspace()` generates evenly spaced numbers over a specified interval by dividing it into the specified number of points. `arange()` generates numbers within a range with a specified step size, excluding the stop value. `linspace()` is useful for a fixed number of points, while `arange()` provides control over step size."
   ]
  },
  {
   "cell_type": "markdown",
   "metadata": {},
   "source": [
    "**15. How to generate a single random integer number using NumPy built-in function?**"
   ]
  },
  {
   "cell_type": "code",
   "execution_count": 32,
   "metadata": {
    "collapsed": true
   },
   "outputs": [],
   "source": [
    "# To avoid overwriting the output, please code here "
   ]
  },
  {
   "cell_type": "code",
   "execution_count": null,
   "metadata": {},
   "outputs": [],
   "source": [
    "# Generate a single random integer between 0 and 9\n",
    "random_integer = np.random.randint(10)\n",
    "\n",
    "print(\"Random integer:\", random_integer)"
   ]
  },
  {
   "cell_type": "markdown",
   "metadata": {},
   "source": [
    "**16. Write a code to generate a 7x5 matrix of 35 random numbers? use rand here** <br>\n",
    "*Notice, there are no ( ) in the output matrix!*"
   ]
  },
  {
   "cell_type": "code",
   "execution_count": 34,
   "metadata": {
    "collapsed": true
   },
   "outputs": [],
   "source": [
    "# To avoid overwriting the output, please code here "
   ]
  },
  {
   "cell_type": "code",
   "execution_count": 35,
   "metadata": {},
   "outputs": [
    {
     "name": "stdout",
     "output_type": "stream",
     "text": [
      "[[ 0.99598801  0.07546767  0.17484793  0.25229956  0.4693597 ]\n",
      " [ 0.5591561   0.5007227   0.93630239  0.48747691  0.78658124]\n",
      " [ 0.98923838  0.04124599  0.71326198  0.51252888  0.36130539]\n",
      " [ 0.11558779  0.52914213  0.31134907  0.8047612   0.25759207]\n",
      " [ 0.87331331  0.77104413  0.960445    0.1732589   0.83339285]\n",
      " [ 0.99839604  0.78268012  0.66487603  0.14509928  0.05670129]\n",
      " [ 0.15932364  0.848172    0.51343887  0.06309231  0.29250649]]\n"
     ]
    }
   ],
   "source": [
    "# Generate a 7x5 matrix of random numbers\n",
    "matrix_random = np.random.rand(7, 5)\n",
    "\n",
    "print(\"Generated matrix of random numbers:\")\n",
    "print(matrix_random)"
   ]
  },
  {
   "cell_type": "markdown",
   "metadata": {},
   "source": [
    "**17. Generate the following matrix using NumPy's built-in method for identity matrix.**"
   ]
  },
  {
   "cell_type": "code",
   "execution_count": 36,
   "metadata": {
    "collapsed": true
   },
   "outputs": [],
   "source": [
    "# To avoid overwriting the output, please code here "
   ]
  },
  {
   "cell_type": "code",
   "execution_count": 30,
   "metadata": {},
   "outputs": [
    {
     "data": {
      "text/plain": [
       "array([[5., 0., 0., 0., 0.],\n",
       "       [0., 5., 0., 0., 0.],\n",
       "       [0., 0., 5., 0., 0.],\n",
       "       [0., 0., 0., 5., 0.],\n",
       "       [0., 0., 0., 0., 5.]])"
      ]
     },
     "execution_count": 30,
     "metadata": {},
     "output_type": "execute_result"
    }
   ],
   "source": [
    "# Generate a 5x5 identity matrix with diagonal value 5\n",
    "matrix_identity = 5 * np.eye(5)\n",
    "\n",
    "print(\"Generated identity matrix:\")\n",
    "print(matrix_identity)"
   ]
  },
  {
   "cell_type": "markdown",
   "metadata": {
    "collapsed": true
   },
   "source": [
    "### You must be feeling comfortable using NumPy now!\n",
    "# Great Job and Good Luck "
   ]
  }
 ],
 "metadata": {
  "kernelspec": {
   "display_name": "Python 3 (ipykernel)",
   "language": "python",
   "name": "python3"
  },
  "language_info": {
   "codemirror_mode": {
    "name": "ipython",
    "version": 3
   },
   "file_extension": ".py",
   "mimetype": "text/x-python",
   "name": "python",
   "nbconvert_exporter": "python",
   "pygments_lexer": "ipython3",
   "version": "3.11.5"
  }
 },
 "nbformat": 4,
 "nbformat_minor": 1
}
